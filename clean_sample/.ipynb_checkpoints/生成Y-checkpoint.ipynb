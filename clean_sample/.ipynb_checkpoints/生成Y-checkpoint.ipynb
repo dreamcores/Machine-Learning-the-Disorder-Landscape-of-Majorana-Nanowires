{
 "cells": [
  {
   "cell_type": "code",
   "execution_count": 1,
   "id": "0e414d37-bd57-4e44-8f15-c26fced92172",
   "metadata": {},
   "outputs": [],
   "source": [
    "import numpy as np\n",
    "import matplotlib.pyplot as plt\n",
    "from scipy.ndimage import gaussian_filter\n",
    "from scipy.fftpack import dct, idct\n",
    "\n",
    "# Parameters\n",
    "num_sites = 301  # Number of lattice sites\n",
    "std_deviation = 1.5  # Standard deviation of the disorder potential (meV)\n",
    "correlation_length = 3  # Correlation length in sites\n",
    "low_frequency_components = 6  # Number of low-frequency components to keep\n",
    "num_sequences = 8000  # Number of Y sequences to generate\n",
    "\n",
    "# Placeholder for all Y sequences\n",
    "Y = []\n",
    "\n",
    "# Loop to generate multiple sequences\n",
    "for seed in range(num_sequences):\n",
    "    np.random.seed(seed)  # Set random seed for reproducibility\n",
    "\n",
    "    # Step 1: Generate uncorrelated disorder (Gaussian distribution)\n",
    "    disorder = np.random.normal(0, std_deviation, num_sites)\n",
    "\n",
    "    # Step 2: Convolve with a decaying Gaussian function\n",
    "    correlated_disorder = gaussian_filter(disorder, sigma=correlation_length) - np.mean(disorder)\n",
    "\n",
    "    # Apply Discrete Cosine Transform (DCT)\n",
    "    dct_disorder = dct(correlated_disorder, norm='ortho')\n",
    "\n",
    "    # Retain only low-frequency components\n",
    "    ck = np.zeros_like(dct_disorder)\n",
    "    ck[:low_frequency_components] = dct_disorder[:low_frequency_components]\n",
    "\n",
    "    # Inverse DCT to get the smoothed correlated disorder\n",
    "    correlated_disorder_new = idct(ck, norm='ortho')\n",
    "\n",
    "\n",
    "    Y_sequences = ck[1:6]  \n",
    "    Y.append(Y_sequences)\n",
    "\n",
    "\n",
    "Y = np.array(Y)\n",
    "np.save(\"Y.npy\", Y)"
   ]
  },
  {
   "cell_type": "code",
   "execution_count": null,
   "id": "1a1dd8cf-a7d9-4f7d-8e34-02209dfd52a8",
   "metadata": {},
   "outputs": [],
   "source": []
  }
 ],
 "metadata": {
  "kernelspec": {
   "display_name": "Python 3 (ipykernel)",
   "language": "python",
   "name": "python3"
  },
  "language_info": {
   "codemirror_mode": {
    "name": "ipython",
    "version": 3
   },
   "file_extension": ".py",
   "mimetype": "text/x-python",
   "name": "python",
   "nbconvert_exporter": "python",
   "pygments_lexer": "ipython3",
   "version": "3.12.2"
  }
 },
 "nbformat": 4,
 "nbformat_minor": 5
}
